{
 "cells": [
  {
   "cell_type": "code",
   "execution_count": 2,
   "id": "a46ea813-80ff-430d-8187-75dc08feb755",
   "metadata": {},
   "outputs": [],
   "source": [
    "from cavity import *\n",
    "import ipywidgets as widgets\n",
    "\n",
    "%matplotlib inline"
   ]
  },
  {
   "cell_type": "code",
   "execution_count": 3,
   "id": "cf58d9f1-f2ee-4a5a-a49b-2c7a506b211f",
   "metadata": {},
   "outputs": [
    {
     "data": {
      "application/vnd.jupyter.widget-view+json": {
       "model_id": "c70de15f70c94f68a823c56749218a03",
       "version_major": 2,
       "version_minor": 0
      },
      "text/plain": [
       "interactive(children=(FloatSlider(value=0.0, description='x_1_value', max=1.0, min=-1.0), FloatSlider(value=0.…"
      ]
     },
     "metadata": {},
     "output_type": "display_data"
    }
   ],
   "source": [
    "\n",
    "x_1, y_1, direction_x_1, direction_y_1, x_2, y_2, direction_x_2, direction_y_2, x_3, y_3, direction_x_3, direction_y_3, direction_x_ray, direction_y_ray = sp.symbols('x_1, y_1, direction_x_1, direction_y_1, x_2, y_2, direction_x_2, direction_y_2, x_3, y_3, direction_x_3, direction_y_3, direction_x_ray, direction_y_ray')\n",
    "origin_1 = x_1 * S.i + y_1 * S.j\n",
    "origin_2 = x_2 * S.i + y_2 * S.j\n",
    "origin_3 = x_3 * S.i + y_3 * S.j\n",
    "direction_1 = direction_x_1 * S.i + direction_y_1 * S.j\n",
    "direction_2 = direction_x_2 * S.i + direction_y_2 * S.j\n",
    "direction_3 = direction_x_3 * S.i + direction_y_3 * S.j\n",
    "direction_ray = direction_x_ray * S.i + direction_y_ray * S.j\n",
    "initial_ray = Ray(origin_1, direction_ray)\n",
    "mirror1 = FlatMirror(origin_1, direction_1)\n",
    "mirror2 = FlatMirror(origin_2, direction_2)\n",
    "mirror3 = FlatMirror(origin_3, direction_3)\n",
    "deflected_ray2 = mirror2.deflect_ray(initial_ray)\n",
    "deflected_ray3 = mirror3.deflect_ray(deflected_ray2)\n",
    "\n",
    "def f(x_1_value=0,  y_1_value=0, direction_x_1_value=0, direction_y_1_value=1,\n",
    "      x_2_value=1,  y_2_value=1, direction_x_2_value=-1, direction_y_2_value=0,\n",
    "      x_3_value=-1, y_3_value=1, direction_x_3_value=1, direction_y_3_value=-1,\n",
    "      direction_x_ray_value=1, direction_y_ray_value=1):\n",
    "\n",
    "    substitution_dict = {'x_1': x_1_value, 'y_1': y_1_value, 'direction_x_1': direction_x_1_value, 'direction_y_1': direction_y_1_value,\n",
    "                         'x_2': x_2_value, 'y_2': y_2_value, 'direction_x_2': direction_x_2_value, 'direction_y_2': direction_y_2_value,\n",
    "                         'x_3': x_3_value, 'y_3': y_3_value, 'direction_x_3': direction_x_3_value, 'direction_y_3': direction_y_3_value,\n",
    "                         'direction_x_ray': direction_x_ray_value, 'direction_y_ray': direction_y_ray_value}\n",
    "    mirror1.plot(substitution_dict)\n",
    "    initial_ray.plot(substitution_dict)\n",
    "    mirror2.plot(substitution_dict)\n",
    "    mirror3.plot(substitution_dict)\n",
    "    deflected_ray2.plot(substitution_dict)\n",
    "    deflected_ray3.plot(substitution_dict)\n",
    "\n",
    "\n",
    "    plt.show()\n",
    "    \n",
    "widgets.interact(f,\n",
    "                 x_1_value=(-1, 1, 0.1), y_1_value=(-1, 1, 0.1), direction_x_1_value=(-1, 1, 0.1), direction_y_1_value=(-1, 1, 0.1),\n",
    "                 x_2_value=(-1, 1, 0.1), y_2_value=(-1, 1, 0.1), direction_x_2_value=(-1, 1, 0.1), direction_y_2_value=(-1, 1, 0.1),\n",
    "                 x_3_value=(-1, 1, 0.1), y_3_value=(-1, 1, 0.1), direction_x_3_value=(-1, 1, 0.1), direction_y_3_value=(-1, 1, 0.1),\n",
    "                 direction_x_ray_value=(-1, 1, 0.1), direction_y_ray_value=(-1, 1, 0.1));\n"
   ]
  }
 ],
 "metadata": {
  "kernelspec": {
   "display_name": "Python 3 (ipykernel)",
   "language": "python",
   "name": "python3"
  },
  "language_info": {
   "codemirror_mode": {
    "name": "ipython",
    "version": 3
   },
   "file_extension": ".py",
   "mimetype": "text/x-python",
   "name": "python",
   "nbconvert_exporter": "python",
   "pygments_lexer": "ipython3",
   "version": "3.10.8"
  }
 },
 "nbformat": 4,
 "nbformat_minor": 5
}
