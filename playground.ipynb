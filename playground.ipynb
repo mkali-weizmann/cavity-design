{
 "cells": [
  {
   "cell_type": "code",
   "execution_count": 1,
   "id": "a46ea813-80ff-430d-8187-75dc08feb755",
   "metadata": {},
   "outputs": [],
   "source": [
    "from cavity import *\n",
    "import ipywidgets as widgets\n",
    "\n",
    "%matplotlib inline"
   ]
  },
  {
   "cell_type": "code",
   "execution_count": 2,
   "id": "cf58d9f1-f2ee-4a5a-a49b-2c7a506b211f",
   "metadata": {},
   "outputs": [
    {
     "data": {
      "application/vnd.jupyter.widget-view+json": {
       "model_id": "adbbd34eb8d540749b5c9749c41f33b4",
       "version_major": 2,
       "version_minor": 0
      },
      "text/plain": [
       "interactive(children=(FloatSlider(value=0.0, description='x_1', max=2.0, min=-2.0), FloatSlider(value=0.0, des…"
      ]
     },
     "metadata": {},
     "output_type": "display_data"
    }
   ],
   "source": [
    "def f(x_1=0,  y_1=0, theta_1=np.pi/2, x_2=1.5, y_2=1, theta_2=np.pi, x_3=-1, y_3=3, theta_3=6.6*np.pi/4, theta_ray=np.pi/4):\n",
    "    # origin_1 = np.array([0, 0])\n",
    "    # theta_1 = np.pi / 2\n",
    "    # origin_2 = np.array([1.5, 1])\n",
    "    # theta_2 = np.pi\n",
    "    # origin_3 = np.array([-1, 3])\n",
    "    # theta_3 = 6.6*np.pi / 4\n",
    "    # theta_ray = np.pi / 4\n",
    "    \n",
    "    origin_1 = np.array([x_1, y_1])\n",
    "    origin_2 = np.array([x_2, y_2])\n",
    "    origin_3 = np.array([x_3, y_3])\n",
    "    initial_ray = Ray(origin_1, theta_ray)\n",
    "    mirror_1 = FlatMirror(origin_1, theta_1)\n",
    "    mirror_2 = FlatMirror(origin_2, theta_2)\n",
    "    mirror_3 = FlatMirror(origin_3, theta_3)\n",
    "    deflected_ray_2 = mirror_2.deflect_ray(initial_ray)\n",
    "    deflected_ray_3 = mirror_3.deflect_ray(deflected_ray_2)\n",
    "    deflected_ray_4 = mirror_1.deflect_ray(deflected_ray_3)\n",
    "    figure = plt.figure(figsize=(8, 8))\n",
    "    initial_ray.plot()\n",
    "    deflected_ray_2.plot()\n",
    "    deflected_ray_3.plot()\n",
    "    deflected_ray_4.plot()\n",
    "    mirror_1.plot()\n",
    "    mirror_2.plot()\n",
    "    mirror_3.plot()\n",
    "    plt.xlim(-4, 4)\n",
    "    plt.ylim(-4, 4)\n",
    "    plt.show()\n",
    "\n",
    "widgets.interact(f,\n",
    "                 x_1=(-2, 2, 0.1), y_1=(-2, 2, 0.1), theta_1=(0, 2*np.pi, 0.1),\n",
    "                 x_2=(-2, 2, 0.1), y_2=(-2, 2, 0.1), theta_2=(0, 2*np.pi, 0.1),\n",
    "                 x_3=(-2, 2, 0.1), y_3=(-2, 2, 0.1), theta_3=(0, 2*np.pi, 0.1),\n",
    "                 theta_ray=(0, 2*np.pi, 0.1));\n"
   ]
  },
  {
   "cell_type": "code",
   "execution_count": 3,
   "id": "1b3149f4-9dcc-412c-bedd-2e7238664fb5",
   "metadata": {},
   "outputs": [
    {
     "data": {
      "application/vnd.jupyter.widget-view+json": {
       "model_id": "6263e902ea5b4a9bbbd7d1270154bf5e",
       "version_major": 2,
       "version_minor": 0
      },
      "text/plain": [
       "interactive(children=(FloatSlider(value=0.0, description='x_1', max=2.0, min=-2.0), FloatSlider(value=0.0, des…"
      ]
     },
     "metadata": {},
     "output_type": "display_data"
    }
   ],
   "source": [
    "def f(x_1=0,  y_1=0, theta_1=np.pi/2, x_2=1.5, y_2=1, theta_2=np.pi, x_3=-1, y_3=3, theta_3=6.6*np.pi/4, theta_ray=np.pi/4):\n",
    "    origin_1 = np.array([x_1, y_1])\n",
    "    origin_2 = np.array([x_2, y_2])\n",
    "    origin_3 = np.array([x_3, y_3])\n",
    "    mirror_1 = FlatMirror(origin_1, theta_1)\n",
    "    mirror_2 = FlatMirror(origin_2, theta_2)\n",
    "    mirror_3 = FlatMirror(origin_3, theta_3)\n",
    "\n",
    "    cavity = Cavity([mirror_1, mirror_2, mirror_3])\n",
    "\n",
    "    cavity.find_central_line()\n",
    "    figure = plt.figure(figsize=(8, 8))\n",
    "    plt.xlim(-2, 1.5)\n",
    "    plt.ylim(-1, 3.5)\n",
    "    cavity.plot()\n",
    "    plt.show()\n",
    "\n",
    "widgets.interact(f,\n",
    "                 x_1=(-2, 2, 0.1), y_1=(-2, 2, 0.1), theta_1=(0, 2*np.pi, 0.1),\n",
    "                 x_2=(-2, 2, 0.1), y_2=(-2, 2, 0.1), theta_2=(0, 2*np.pi, 0.1),\n",
    "                 x_3=(-2, 2, 0.1), y_3=(-2, 2, 0.1), theta_3=(0, 2*np.pi, 0.1),\n",
    "                 theta_ray=(0, 2*np.pi, 0.1));\n",
    "\n"
   ]
  },
  {
   "cell_type": "code",
   "execution_count": 2,
   "id": "1c4e692f-f051-4719-9361-9c51fcaeaede",
   "metadata": {},
   "outputs": [
    {
     "data": {
      "application/vnd.jupyter.widget-view+json": {
       "model_id": "e77057d3531244da8f14e00a25a4764d",
       "version_major": 2,
       "version_minor": 0
      },
      "text/plain": [
       "interactive(children=(FloatSlider(value=0.0, description='x_1', max=2.0, min=-2.0, step=0.01), FloatSlider(val…"
      ]
     },
     "metadata": {},
     "output_type": "display_data"
    }
   ],
   "source": [
    "def f(x_1=0, y_1=0, r_1=1, t_1 = 0,\n",
    "      x_2=0, y_2=0, r_2=1, t_2 = 2*np.pi/3,\n",
    "      x_3=0, y_3=0, r_3=1, t_3 = 4*np.pi/3):\n",
    "    center_mirror_1 = np.array([x_1, y_1])\n",
    "    center_mirror_2 = np.array([x_2, y_2])\n",
    "    center_mirror_3 = np.array([x_3, y_3])\n",
    "\n",
    "    mirror_1 = CurvedMirror(r_1, t_1, center_mirror_1)\n",
    "    mirror_2 = CurvedMirror(r_2, t_2, center_mirror_2)\n",
    "    mirror_3 = CurvedMirror(r_3, t_3, center_mirror_3)\n",
    "    ray = Ray(mirror_1.center_of_mirror, np.arctan2(mirror_2.center_of_mirror[1] - mirror_1.center_of_mirror[1], mirror_2.center_of_mirror[0] - mirror_1.center_of_mirror[0]))\n",
    "\n",
    "    reflected_ray_1 = mirror_2.reflect_ray(ray)\n",
    "    reflected_ray_2 = mirror_3.reflect_ray(reflected_ray_1)\n",
    "    reflected_ray_3 = mirror_1.reflect_ray(reflected_ray_2)\n",
    "    fig = plt.figure(figsize=(10, 10))\n",
    "    ray.plot()\n",
    "    reflected_ray_1.plot()\n",
    "    reflected_ray_2.plot()\n",
    "    reflected_ray_3.plot()\n",
    "    mirror_1.plot()\n",
    "    mirror_2.plot()\n",
    "    mirror_3.plot()\n",
    "    plt.axis('equal')\n",
    "    plt.xlim(-2, 2)\n",
    "    plt.ylim(-2, 2)\n",
    "    plt.show()\n",
    "    \n",
    "    \n",
    "x_min = -2\n",
    "x_max = 2\n",
    "r_min = 0\n",
    "r_max = 2\n",
    "dx = 0.01\n",
    "widgets.interact(f,\n",
    "             x_1=(x_min, x_max, dx), y_1=(x_min, x_max, dx), r_1=(r_min, r_max, dx), t_1=(0, 2*np.pi, dx),\n",
    "             x_2=(x_min, x_max, dx), y_2=(x_min, x_max, dx), r_2=(r_min, r_max, dx), t_2=(0, 2*np.pi, dx),\n",
    "             x_3=(x_min, x_max, dx), y_3=(x_min, x_max, dx), r_3=(r_min, r_max, dx), t_3=(0, 2*np.pi, dx),\n",
    "             x_ray=(x_min, x_max, dx), y_ray=(x_min, x_max, dx), theta_ray=(0, 2*np.pi, dx));"
   ]
  },
  {
   "cell_type": "code",
   "execution_count": 7,
   "id": "32e01bab-dbd2-4e48-a580-7fd66dc9b02c",
   "metadata": {},
   "outputs": [
    {
     "data": {
      "application/vnd.jupyter.widget-view+json": {
       "model_id": "43024e034e254ce5ad6b5ed19f59f237",
       "version_major": 2,
       "version_minor": 0
      },
      "text/plain": [
       "interactive(children=(FloatSlider(value=2.0, description='x_1', max=2.0, min=-2.0, step=0.01), FloatSlider(val…"
      ]
     },
     "metadata": {},
     "output_type": "display_data"
    }
   ],
   "source": [
    "def f(x_1=2, y_1=0, r_1=1, t_1 = 0,\n",
    "      x_2=-1, y_2=0.45, r_2=0.2, t_2 = 2.28,\n",
    "      x_3=-1, y_3=-0.45, r_3=0.2, t_3 = 4.04):\n",
    "    center_mirror_1 = np.array([x_1, y_1])\n",
    "    center_mirror_2 = np.array([x_2, y_2])\n",
    "    center_mirror_3 = np.array([x_3, y_3])\n",
    "\n",
    "    mirror_1 = CurvedMirror(r_1, t_1, center_mirror_1)\n",
    "    mirror_2 = CurvedMirror(r_2, t_2, center_mirror_2)\n",
    "    mirror_3 = CurvedMirror(r_3, t_3, center_mirror_3)\n",
    "\n",
    "    cavity = Cavity([mirror_1, mirror_2, mirror_3])\n",
    "\n",
    "    central_line = cavity.find_central_line()\n",
    "\n",
    "    cavity.plot()\n",
    "    plt.axis('equal')\n",
    "    plt.xlim(-2, 2)\n",
    "    plt.ylim(-2, 2)\n",
    "    plt.show()\n",
    "    \n",
    "    print(f\"{x_1=:.2f},\\n{y_1=:.2f},\\n{r_1=:.2f},\\n{t_1=:.2f},\\n{x_2=:.2f},\\n{y_2=:.2f},\\n{r_2=:.2f},\\n{t_2=:.2f},\\n{x_3=:.2f},\\n{y_3=:.2f},\\n{r_3=:.2f},\\n{t_3=:.2f},\")\n",
    "    \n",
    "    \n",
    "\n",
    "x_min = -2\n",
    "x_max = 2\n",
    "r_min = 0\n",
    "r_max = 2\n",
    "dx = 0.01\n",
    "widgets.interact(f,\n",
    "             x_1=(x_min, x_max, dx), y_1=(x_min, x_max, dx), r_1=(r_min, r_max, dx), t_1=(0, 2*np.pi, dx),\n",
    "             x_2=(x_min, x_max, dx), y_2=(x_min, x_max, dx), r_2=(r_min, r_max, dx), t_2=(0, 2*np.pi, dx),\n",
    "             x_3=(x_min, x_max, dx), y_3=(x_min, x_max, dx), r_3=(r_min, r_max, dx), t_3=(0, 2*np.pi, dx),\n",
    "             x_ray=(x_min, x_max, dx), y_ray=(x_min, x_max, dx), theta_ray=(0, 2*np.pi, dx));"
   ]
  }
 ],
 "metadata": {
  "kernelspec": {
   "display_name": "Python 3 (ipykernel)",
   "language": "python",
   "name": "python3"
  },
  "language_info": {
   "codemirror_mode": {
    "name": "ipython",
    "version": 3
   },
   "file_extension": ".py",
   "mimetype": "text/x-python",
   "name": "python",
   "nbconvert_exporter": "python",
   "pygments_lexer": "ipython3",
   "version": "3.10.8"
  }
 },
 "nbformat": 4,
 "nbformat_minor": 5
}
