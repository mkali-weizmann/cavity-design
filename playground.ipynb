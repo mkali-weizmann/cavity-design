{
 "cells": [
  {
   "cell_type": "code",
   "execution_count": 3,
   "id": "a46ea813-80ff-430d-8187-75dc08feb755",
   "metadata": {},
   "outputs": [],
   "source": [
    "from cavity import *\n",
    "import ipywidgets as widgets\n",
    "\n",
    "%matplotlib inline"
   ]
  },
  {
   "cell_type": "code",
   "execution_count": 11,
   "id": "cf58d9f1-f2ee-4a5a-a49b-2c7a506b211f",
   "metadata": {},
   "outputs": [
    {
     "data": {
      "application/vnd.jupyter.widget-view+json": {
       "model_id": "39e9bb558a4745eabdd387c51c9ab819",
       "version_major": 2,
       "version_minor": 0
      },
      "text/plain": [
       "interactive(children=(FloatSlider(value=0.0, description='x1_value', max=1.0, min=-1.0), FloatSlider(value=0.0…"
      ]
     },
     "metadata": {},
     "output_type": "display_data"
    }
   ],
   "source": [
    "def f(x1_value=0, y1_value=0, theta1_value=0, x2_value=1, y2_value=1, theta2_value=np.round(5*np.pi/4, 1), x3_value=-1, y3_value=1, theta3_value=np.round(15/8*np.pi), theta_ray_value=np.pi/4):\n",
    "\n",
    "    x1, y1, theta1, x2, y2, theta2, x3, y3, theta3, theta_ray = sp.symbols('x1 y1 theta1 x2 y2 theta2 x3 y3 theta3 theta_ray')\n",
    "    initial_ray = Ray(x1, y1, theta_ray)\n",
    "    mirror1 = FlatMirror(x1, y1, theta1)\n",
    "    mirror2 = FlatMirror(x2, y2, theta2)\n",
    "    mirror3 = FlatMirror(x3, y3, theta3)\n",
    "    deflected_ray2 = mirror2.deflect_ray(initial_ray)\n",
    "    deflected_ray3 = mirror3.deflect_ray(deflected_ray2)\n",
    "\n",
    "    substitution_dict = {'x1': x1_value, 'y1': y1_value, 'theta1': theta1_value, 'x2': x2_value, 'y2': y2_value, 'theta2': theta2_value, 'x3': x3_value, 'y3': y3_value, 'theta3': theta3_value, 'theta_ray': theta_ray_value}\n",
    "    mirror1.plot(substitution_dict)\n",
    "    initial_ray.plot(substitution_dict)\n",
    "    mirror2.plot(substitution_dict)\n",
    "    deflected_ray2.plot(substitution_dict)\n",
    "    deflected_ray3.plot(substitution_dict)\n",
    "\n",
    "\n",
    "    plt.show()\n",
    "    \n",
    "widgets.interact(f,\n",
    "                 x1_value=(-1, 1, 0.1), y1_value=(-1, 1, 0.1), theta1_value=(0, 2*np.pi, 0.1),\n",
    "                 x2_value=(-1, 1, 0.1), y2_value=(-1, 1, 0.1), theta2_value=(0, 2*np.pi, 0.1),\n",
    "                 x3_value=(-1, 1, 0.1), y3_value=(-1, 1, 0.1), theta3_value=(0, 2*np.pi, 0.1),\n",
    "                 theta_ray_value=(0, 2*np.pi, 0.1));\n"
   ]
  }
 ],
 "metadata": {
  "kernelspec": {
   "display_name": "Python 3 (ipykernel)",
   "language": "python",
   "name": "python3"
  },
  "language_info": {
   "codemirror_mode": {
    "name": "ipython",
    "version": 3
   },
   "file_extension": ".py",
   "mimetype": "text/x-python",
   "name": "python",
   "nbconvert_exporter": "python",
   "pygments_lexer": "ipython3",
   "version": "3.9.7"
  }
 },
 "nbformat": 4,
 "nbformat_minor": 5
}
