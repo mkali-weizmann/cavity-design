{
 "cells": [
  {
   "cell_type": "code",
   "execution_count": 1,
   "id": "f9aa43e4-e09d-48c1-bd8f-dc597d70c740",
   "metadata": {},
   "outputs": [],
   "source": [
    "from cavity import *\n",
    "\n",
    "import ipywidgets as widgets\n",
    "from ipywidgets import Layout, interact, FloatSlider\n",
    "\n",
    "%matplotlib inline"
   ]
  },
  {
   "cell_type": "code",
   "execution_count": 6,
   "id": "f2f14c55-8e93-4afc-8bba-c764ce0685cd",
   "metadata": {},
   "outputs": [
    {
     "data": {
      "application/vnd.jupyter.widget-view+json": {
       "model_id": "7d68c5388ea54c11969b474285de5ad4",
       "version_major": 2,
       "version_minor": 0
      },
      "text/plain": [
       "interactive(children=(IntSlider(value=44, description='elev', max=180), IntSlider(value=250, description='azim…"
      ]
     },
     "metadata": {},
     "output_type": "display_data"
    }
   ],
   "source": [
    "def f(elev=44, azim=250):\n",
    "    mirror = CurvedMirror(radius=1,\n",
    "                          outwards_normal=np.array([1, 0, 0]),\n",
    "                          origin=np.array([0, 0, 0]))\n",
    "    y = np.array([-0.2, 0, 0.2])\n",
    "    z = np.array([-0.2, 0, 0.2])\n",
    "    Y, Z = np.meshgrid(y, z)\n",
    "    X = np.zeros_like(Y)\n",
    "    origin = np.stack([X, Y, Z], axis=-1)\n",
    "    k_vector = np.array([1, 0, 0])\n",
    "    ray = Ray(origin=origin, k_vector=k_vector)\n",
    "    reflected_ray = mirror.reflect_ray(ray)\n",
    "    mirror.plot()\n",
    "    ax = plt.gca()\n",
    "    ray.plot(ax)\n",
    "    reflected_ray.plot(ax)\n",
    "    ax.view_init(elev=elev, azim=azim)\n",
    "    plt.show()\n",
    "    \n",
    "\n",
    "widgets.interact(f, elev=(0, 180, 1), azim=(0, 360, 1));"
   ]
  },
  {
   "cell_type": "code",
   "execution_count": 7,
   "id": "7711b2c8-1bc8-4325-9d93-5a171fac2d9f",
   "metadata": {},
   "outputs": [
    {
     "data": {
      "application/vnd.jupyter.widget-view+json": {
       "model_id": "19f57ce53a5a4d008283212b9cfb9adf",
       "version_major": 2,
       "version_minor": 0
      },
      "text/plain": [
       "interactive(children=(IntSlider(value=51, description='elev', max=180), IntSlider(value=250, description='azim…"
      ]
     },
     "metadata": {},
     "output_type": "display_data"
    }
   ],
   "source": [
    "def f(elev=51, azim=250):\n",
    "    mirror = FlatMirror(normal=np.array([1, 1, 1]), distance_from_origin=1)\n",
    "    ray = Ray(origin=np.array([[0, 0, 0], [0.4, 0, -1], [0, 0.2, 0.2]]), k_vector=np.array([[1, 0, 0], [0, 1, 0], [0, 1, 0]]))\n",
    "    reflected_ray = mirror.reflect_ray(ray)\n",
    "    \n",
    "    mirror.plot()\n",
    "    ax = plt.gca()\n",
    "    ray.plot(ax)\n",
    "    reflected_ray.plot(ax)\n",
    "    ax.view_init(elev=elev, azim=azim)\n",
    "    plt.show()\n",
    "    \n",
    "widgets.interact(f, elev=(0, 180, 1), azim=(0, 360, 1));"
   ]
  },
  {
   "cell_type": "code",
   "execution_count": 17,
   "id": "14a4982c-0b3c-4959-981c-72dbf08be449",
   "metadata": {},
   "outputs": [
    {
     "data": {
      "application/vnd.jupyter.widget-view+json": {
       "model_id": "2a95d86caee64955a4be58a24e7aec74",
       "version_major": 2,
       "version_minor": 0
      },
      "text/plain": [
       "interactive(children=(FloatSlider(value=0.0, description='x_1', layout=Layout(width='2000px'), max=0.05, min=-…"
      ]
     },
     "metadata": {},
     "output_type": "display_data"
    }
   ],
   "source": [
    "def f(x_1=0, y_1=0, r_1=0, t_1 = 0, p_1 = 0,\n",
    "      x_2=0, y_2=0, r_2=0, t_2 = 0, p_2 = 0,\n",
    "      x_3=0, y_3=0, r_3=0, t_3 = 0, p_3 = 0,\n",
    "      t_ray=0, p_ray=0, theta_ray=0, phi_ray=0,\n",
    "      elev=38, azim=192, zoom=0, center_first_mirror=True):\n",
    "    \n",
    "    x_1 += 1\n",
    "    y_1 += 0.00\n",
    "    r_1 += 2\n",
    "    t_1 += np.pi / 2\n",
    "    p_1 += -np.pi / 6\n",
    "    x_2 += 0\n",
    "    y_2 += np.sqrt(3)\n",
    "    r_2 += 2\n",
    "    t_2 += np.pi / 2\n",
    "    p_2 += np.pi / 2\n",
    "    x_3 += -1\n",
    "    y_3 += 0\n",
    "    r_3 += 2\n",
    "    t_3 += np.pi / 2\n",
    "    p_3 += 7 * np.pi / 6\n",
    "    \n",
    "    \n",
    "    normal_1 = unit_vector_of_angles(t_1, p_1)\n",
    "    center_1 = np.array([x_1, y_1, 0])\n",
    "    normal_2 = unit_vector_of_angles(t_1, p_2)\n",
    "    center_2 = np.array([x_2, y_2, 0])\n",
    "    normal_3 = unit_vector_of_angles(t_1, p_3)\n",
    "    center_3 = np.array([x_3, y_3, 0])\n",
    "\n",
    "    mirror_1 = CurvedMirror(radius=2, outwards_normal=normal_1, center_of_mirror=center_1)\n",
    "    mirror_2 = CurvedMirror(radius=2, outwards_normal=normal_2, center_of_mirror=center_2)\n",
    "    mirror_3 = CurvedMirror(radius=2, outwards_normal=normal_3, center_of_mirror=center_3)\n",
    "    \n",
    "    default_k_vector = normalize_vector(mirror_2.center_of_mirror - mirror_1.center_of_mirror)\n",
    "    theta_0, phi_0 = angles_of_unit_vector(default_k_vector)\n",
    "    theta_ray += theta_0\n",
    "    phi_ray += phi_0\n",
    "    ray_k_vector = unit_vector_of_angles(theta_ray, phi_ray)\n",
    "    ray_origin = mirror_1.parameterization(t_ray, p_ray)\n",
    "    initial_ray = Ray(origin=ray_origin, k_vector=ray_k_vector)\n",
    "\n",
    "    cavity = Cavity([mirror_1, mirror_2, mirror_3])\n",
    "\n",
    "    central_line = cavity.trace_ray(initial_ray)\n",
    "    \n",
    "    cavity.plot()\n",
    "    ax = plt.gca()\n",
    "    if center_first_mirror:\n",
    "        origin_mirror = cavity.mirrors[0].center_of_mirror\n",
    "    else:\n",
    "        origin_mirror = cavity.mirrors[0].center_of_mirror\n",
    "    ax.set_xlim(origin_mirror[0] - zoom, origin_mirror[0] + zoom)\n",
    "    ax.set_ylim(origin_mirror[1] - zoom, origin_mirror[1] + zoom)\n",
    "    ax.set_zlim(origin_mirror[2] - zoom, origin_mirror[2] + zoom)\n",
    "    ax.view_init(elev=elev, azim=azim)\n",
    "    \n",
    "    \n",
    "    # print(f\"{x_1=:.2f}\\n{y_1=:.2f}\\n{r_1=:.2f}\\n{t_1=:.2f}\\n{x_2=:.2f}\\n{y_2=:.2f}\\n{r_2=:.2f}\\n{t_2=:.2f}\\n{x_3=:.2f}\\n{y_3=:.2f}\\n{r_3=:.2f}\\n{t_3=:.2f}\")\n",
    "    \n",
    "    \n",
    "\n",
    "x_min = -0.05\n",
    "x_max = 0.05\n",
    "r_min = -0.19\n",
    "r_max = 0.19\n",
    "dx = 0.0001\n",
    "dt_max = 200\n",
    "dtheta_max = 100\n",
    "\n",
    "widgets.interact(f,\n",
    "                 x_1=FloatSlider(value=0, min=x_min, max=x_max, step=dx, description='x_1', disabled=False, continuous_update=True, orientation='horizontal', readout=True, readout_format='.3e', layout=Layout(width='2000px')),\n",
    "                 y_1=FloatSlider(value=0, min=x_min, max=x_max, step=dx, description='y_1', disabled=False, continuous_update=True, orientation='horizontal', readout=True, readout_format='.3e', layout=Layout(width='2000px')),\n",
    "                 r_1=FloatSlider(value=0, min=r_min, max=r_max, step=dx, description='r_1', disabled=False, continuous_update=True, orientation='horizontal', readout=True, readout_format='.3e', layout=Layout(width='2000px')),\n",
    "                 t_1=FloatSlider(value=0, min=x_min, max=x_max, step=dx, description='t_1', disabled=False, continuous_update=True, orientation='horizontal', readout=True, readout_format='.3e', layout=Layout(width='2000px')),\n",
    "                 p_1=FloatSlider(value=0, min=x_min, max=x_max, step=dx, description='p_1', disabled=False, continuous_update=True, orientation='horizontal', readout=True, readout_format='.3e', layout=Layout(width='2000px')),\n",
    "                 x_2=FloatSlider(value=0, min=x_min, max=x_max, step=dx, description='x_2', disabled=False, continuous_update=True, orientation='horizontal', readout=True, readout_format='.3e', layout=Layout(width='2000px')),\n",
    "                 y_2=FloatSlider(value=0, min=x_min, max=x_max, step=dx, description='y_2', disabled=False, continuous_update=True, orientation='horizontal', readout=True, readout_format='.3e', layout=Layout(width='2000px')),\n",
    "                 r_2=FloatSlider(value=0, min=r_min, max=r_max, step=dx, description='r_2', disabled=False, continuous_update=True, orientation='horizontal', readout=True, readout_format='.3e', layout=Layout(width='2000px')),\n",
    "                 t_2=FloatSlider(value=0, min=x_min, max=x_max, step=dx, description='t_2', disabled=False, continuous_update=True, orientation='horizontal', readout=True, readout_format='.3e', layout=Layout(width='2000px')),\n",
    "                 p_2=FloatSlider(value=0, min=x_min, max=x_max, step=dx, description='p_2', disabled=False, continuous_update=True, orientation='horizontal', readout=True, readout_format='.3e', layout=Layout(width='2000px')),\n",
    "                 x_3=FloatSlider(value=0, min=x_min, max=x_max, step=dx, description='x_3', disabled=False, continuous_update=True, orientation='horizontal', readout=True, readout_format='.3e', layout=Layout(width='2000px')),\n",
    "                 y_3=FloatSlider(value=0, min=x_min, max=x_max, step=dx, description='y_3', disabled=False, continuous_update=True, orientation='horizontal', readout=True, readout_format='.3e', layout=Layout(width='2000px')),\n",
    "                 r_3=FloatSlider(value=0, min=r_min, max=r_max, step=dx, description='r_3', disabled=False, continuous_update=True, orientation='horizontal', readout=True, readout_format='.3e', layout=Layout(width='2000px')),\n",
    "                 t_3=FloatSlider(value=0, min=x_min, max=x_max, step=dx, description='t_3', disabled=False, continuous_update=True, orientation='horizontal', readout=True, readout_format='.3e', layout=Layout(width='2000px')),\n",
    "                 p_3=FloatSlider(value=0, min=x_min, max=x_max, step=dx, description='p_3', disabled=False, continuous_update=True, orientation='horizontal', readout=True, readout_format='.3e', layout=Layout(width='2000px')),\n",
    "                 t_ray=FloatSlider(value=0, min=x_min, max=x_max, step=dx, description='t_ray', disabled=False, continuous_update=True, orientation='horizontal', readout=True, readout_format='.3e', layout=Layout(width='2000px')),\n",
    "                 p_ray=FloatSlider(value=0, min=x_min, max=x_max, step=dx, description='p_ray', disabled=False, continuous_update=True, orientation='horizontal', readout=True, readout_format='.3e', layout=Layout(width='2000px')),\n",
    "                 theta_ray=FloatSlider(value=0, min=x_min, max=x_max, step=dx, description='theta_ray', disabled=False, continuous_update=True, orientation='horizontal', readout=True, readout_format='.3e', layout=Layout(width='2000px')),\n",
    "                 phi_ray=FloatSlider(value=0, min=x_min, max=x_max, step=dx, description='phi_ray', disabled=False, continuous_update=True, orientation='horizontal', readout=True, readout_format='.3e', layout=Layout(width='2000px')),\n",
    "                 elev=FloatSlider(value=38, min=0, max=90, step=1, description='elevation', disabled=False, continuous_update=True, orientation='horizontal', readout=True, readout_format='.3e', layout=Layout(width='500px')),\n",
    "                 azim=FloatSlider(value=168, min=0, max=360, step=1, description='azimuth', disabled=False, continuous_update=True, orientation='horizontal', readout=True, readout_format='.3e', layout=Layout(width='500px')),\n",
    "                 zoom=FloatSlider(value=1, min=0.01, max=10, step=0.01, description='zoom', disabled=False, continuous_update=True, orientation='horizontal', readout=True, readout_format='.3e', layout=Layout(width='500px')),\n",
    "                 center_first_mirror=widgets.Checkbox(value=True, description='center on first mirror', disabled=False),\n",
    "                 );"
   ]
  },
  {
   "cell_type": "code",
   "execution_count": 23,
   "id": "212edd20-32d1-4992-b211-a9a04e769118",
   "metadata": {},
   "outputs": [
    {
     "data": {
      "application/vnd.jupyter.widget-view+json": {
       "model_id": "7383c3897abc4c14a4c24df1d1186ae3",
       "version_major": 2,
       "version_minor": 0
      },
      "text/plain": [
       "interactive(children=(FloatSlider(value=0.0, description='x_1', layout=Layout(width='2000px'), max=0.05, min=-…"
      ]
     },
     "metadata": {},
     "output_type": "display_data"
    }
   ],
   "source": [
    "def f(x_1=0, y_1=0, r_1=0, t_1 = 0, p_1 = 0,\n",
    "      t_i = 0, p_i = 0, elev=38, azim=192, zoom=0, center_first_mirror=True):\n",
    "    \n",
    "    x_1 = 1\n",
    "    y_1 = 0.00\n",
    "    r_1 = 2\n",
    "    t_1 = -np.pi / 6\n",
    "    x_2 = 0\n",
    "    y_2 = np.sqrt(3)\n",
    "    r_2 = 2\n",
    "    t_2 = np.pi / 2\n",
    "    x_3 = -1\n",
    "    y_3 = 0\n",
    "    r_3 = 2\n",
    "    t_3 = 7 * np.pi / 6\n",
    "\n",
    "    global_origin = np.array([0, 0, 0])\n",
    "    normal_1 = unit_vector_of_angles(np.pi / 2, t_1)\n",
    "    center_1 = np.array([x_1, y_1, 0])\n",
    "    normal_2 = unit_vector_of_angles(np.pi / 2, t_2)\n",
    "    center_2 = np.array([x_2, y_2, 0])\n",
    "    normal_3 = unit_vector_of_angles(np.pi / 2, t_3)\n",
    "    center_3 = np.array([x_3, y_3, 0])\n",
    "\n",
    "    mirror_1 = CurvedMirror(radius=2, outwards_normal=normal_1, center_of_mirror=center_1)\n",
    "\n",
    "    position_i = mirror_1.parameterization(t_i, p_i)\n",
    "    \n",
    "    mirror_1.plot()\n",
    "    plt.plot(position_i[0], position_i[1], position_i[2], 'ro')\n",
    "    dr = 0.6\n",
    "    ax = plt.gca()\n",
    "    ax.set_xlim(mirror_1.center_of_mirror[0] - dr, mirror_1.center_of_mirror[0] + dr)\n",
    "    ax.set_ylim(mirror_1.center_of_mirror[1] - dr, mirror_1.center_of_mirror[1] + dr)\n",
    "    ax.set_zlim(mirror_1.center_of_mirror[2] - dr, mirror_1.center_of_mirror[2] + dr)\n",
    "    ax.view_init(elev=elev, azim=azim)\n",
    "    plt.show()\n",
    "    \n",
    "    t_i_inv, p_i_inv = mirror_1.get_parameterization(position_i)\n",
    "    \n",
    "    \n",
    "    # print(f\"{x_1=:.2f}\\n{y_1=:.2f}\\n{r_1=:.2f}\\n{t_1=:.2f}\\n{x_2=:.2f}\\n{y_2=:.2f}\\n{r_2=:.2f}\\n{t_2=:.2f}\\n{x_3=:.2f}\\n{y_3=:.2f}\\n{r_3=:.2f}\\n{t_3=:.2f}\")\n",
    "    \n",
    "    \n",
    "\n",
    "x_min = -0.05\n",
    "x_max = 0.05\n",
    "r_min = -0.19\n",
    "r_max = 0.19\n",
    "dx = 0.0001\n",
    "dt_max = 200\n",
    "dtheta_max = 100\n",
    "\n",
    "widgets.interact(f,\n",
    "                 x_1=FloatSlider(value=0, min=x_min, max=x_max, step=dx, description='x_1', disabled=False, continuous_update=True, orientation='horizontal', readout=True, readout_format='.3e', layout=Layout(width='2000px')),\n",
    "                 y_1=FloatSlider(value=0, min=x_min, max=x_max, step=dx, description='y_1', disabled=False, continuous_update=True, orientation='horizontal', readout=True, readout_format='.3e', layout=Layout(width='2000px')),\n",
    "                 r_1=FloatSlider(value=0, min=r_min, max=r_max, step=dx, description='r_1', disabled=False, continuous_update=True, orientation='horizontal', readout=True, readout_format='.3e', layout=Layout(width='2000px')),\n",
    "                 t_1=FloatSlider(value=0, min=x_min, max=x_max, step=dx, description='t_1', disabled=False, continuous_update=True, orientation='horizontal', readout=True, readout_format='.3e', layout=Layout(width='2000px')),\n",
    "                 p_1=FloatSlider(value=0, min=x_min, max=x_max, step=dx, description='p_1', disabled=False, continuous_update=True, orientation='horizontal', readout=True, readout_format='.3e', layout=Layout(width='2000px')),\n",
    "                 t_i=FloatSlider(value=0, min=-1, max=1, step=dx, description='t_i', disabled=False, continuous_update=True, orientation='horizontal', readout=True, readout_format='.3e', layout=Layout(width='2000px')),\n",
    "                 p_i=FloatSlider(value=0, min=-1, max=1, step=dx, description='p_i', disabled=False, continuous_update=True, orientation='horizontal', readout=True, readout_format='.3e', layout=Layout(width='2000px')),\n",
    "                 elev=FloatSlider(value=38, min=0, max=90, step=1, description='elevation', disabled=False, continuous_update=True, orientation='horizontal', readout=True, readout_format='.3e', layout=Layout(width='500px')),\n",
    "                 azim=FloatSlider(value=168, min=0, max=360, step=1, description='azimuth', disabled=False, continuous_update=True, orientation='horizontal', readout=True, readout_format='.3e', layout=Layout(width='500px')),\n",
    "                 zoom=FloatSlider(value=1, min=0.01, max=10, step=0.01, description='zoom', disabled=False, continuous_update=True, orientation='horizontal', readout=True, readout_format='.3e', layout=Layout(width='500px')),\n",
    "                 center_first_mirror=widgets.Checkbox(value=True, description='center on first mirror', disabled=False),\n",
    "                 );"
   ]
  }
 ],
 "metadata": {
  "kernelspec": {
   "display_name": "Python 3 (ipykernel)",
   "language": "python",
   "name": "python3"
  },
  "language_info": {
   "codemirror_mode": {
    "name": "ipython",
    "version": 3
   },
   "file_extension": ".py",
   "mimetype": "text/x-python",
   "name": "python",
   "nbconvert_exporter": "python",
   "pygments_lexer": "ipython3",
   "version": "3.10.8"
  }
 },
 "nbformat": 4,
 "nbformat_minor": 5
}
