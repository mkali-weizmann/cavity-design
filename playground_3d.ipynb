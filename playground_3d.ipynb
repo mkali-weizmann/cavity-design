{
 "cells": [
  {
   "cell_type": "code",
   "execution_count": 1,
   "id": "f9aa43e4-e09d-48c1-bd8f-dc597d70c740",
   "metadata": {},
   "outputs": [],
   "source": [
    "from cavity import *\n",
    "\n",
    "import ipywidgets as widgets\n",
    "from ipywidgets import Layout, interact, FloatSlider\n",
    "\n",
    "%matplotlib inline"
   ]
  },
  {
   "cell_type": "code",
   "execution_count": 6,
   "id": "f2f14c55-8e93-4afc-8bba-c764ce0685cd",
   "metadata": {},
   "outputs": [
    {
     "data": {
      "application/vnd.jupyter.widget-view+json": {
       "model_id": "7d68c5388ea54c11969b474285de5ad4",
       "version_major": 2,
       "version_minor": 0
      },
      "text/plain": [
       "interactive(children=(IntSlider(value=44, description='elev', max=180), IntSlider(value=250, description='azim…"
      ]
     },
     "metadata": {},
     "output_type": "display_data"
    }
   ],
   "source": [
    "def f(elev=44, azim=250):\n",
    "    mirror = CurvedMirror(radius=1,\n",
    "                          outwards_normal=np.array([1, 0, 0]),\n",
    "                          origin=np.array([0, 0, 0]))\n",
    "    y = np.array([-0.2, 0, 0.2])\n",
    "    z = np.array([-0.2, 0, 0.2])\n",
    "    Y, Z = np.meshgrid(y, z)\n",
    "    X = np.zeros_like(Y)\n",
    "    origin = np.stack([X, Y, Z], axis=-1)\n",
    "    k_vector = np.array([1, 0, 0])\n",
    "    ray = Ray(origin=origin, k_vector=k_vector)\n",
    "    reflected_ray = mirror.reflect_ray(ray)\n",
    "    mirror.plot()\n",
    "    ax = plt.gca()\n",
    "    ray.plot(ax)\n",
    "    reflected_ray.plot(ax)\n",
    "    ax.view_init(elev=elev, azim=azim)\n",
    "    plt.show()\n",
    "    \n",
    "\n",
    "widgets.interact(f, elev=(0, 180, 1), azim=(0, 360, 1));"
   ]
  },
  {
   "cell_type": "code",
   "execution_count": 5,
   "id": "7711b2c8-1bc8-4325-9d93-5a171fac2d9f",
   "metadata": {},
   "outputs": [
    {
     "data": {
      "application/vnd.jupyter.widget-view+json": {
       "model_id": "ed67351fbeed435db86512884594347c",
       "version_major": 2,
       "version_minor": 0
      },
      "text/plain": [
       "interactive(children=(IntSlider(value=51, description='elev', max=180), IntSlider(value=250, description='azim…"
      ]
     },
     "metadata": {},
     "output_type": "display_data"
    }
   ],
   "source": [
    "def f(elev=51, azim=250):\n",
    "    mirror = FlatMirror(normal=np.array([1, 1, 1]), distance_from_origin=1)\n",
    "    ray = Ray(origin=np.array([[0, 0, 0], [0.4, 0, -1], [0, 0.2, 0.2]]), k_vector=np.array([[1, 0, 0], [0, 1, 0], [0, 1, 0]]))\n",
    "    reflected_ray = mirror.reflect_ray(ray)\n",
    "    \n",
    "    mirror.plot()\n",
    "    ax = plt.gca()\n",
    "    ray.plot(ax)\n",
    "    reflected_ray.plot(ax)\n",
    "    ax.view_init(elev=elev, azim=azim)\n",
    "    plt.show()\n",
    "    \n",
    "widgets.interact(f, elev=(0, 180, 1), azim=(0, 360, 1));"
   ]
  }
 ],
 "metadata": {
  "kernelspec": {
   "display_name": "Python 3 (ipykernel)",
   "language": "python",
   "name": "python3"
  },
  "language_info": {
   "codemirror_mode": {
    "name": "ipython",
    "version": 3
   },
   "file_extension": ".py",
   "mimetype": "text/x-python",
   "name": "python",
   "nbconvert_exporter": "python",
   "pygments_lexer": "ipython3",
   "version": "3.10.8"
  }
 },
 "nbformat": 4,
 "nbformat_minor": 5
}
